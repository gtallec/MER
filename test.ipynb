{
 "cells": [
  {
   "cell_type": "code",
   "execution_count": 1,
   "metadata": {},
   "outputs": [],
   "source": [
    "import numpy as np"
   ]
  },
  {
   "cell_type": "code",
   "execution_count": 41,
   "metadata": {},
   "outputs": [
    {
     "name": "stdout",
     "output_type": "stream",
     "text": [
      "[[[ 0  1  2  3  4  5]\n",
      "  [ 6  7  8  9 10 11]\n",
      "  [12 13 14 15 16 17]\n",
      "  [18 19 20 21 22 23]\n",
      "  [24 25 26 27 28 29]]\n",
      "\n",
      " [[ 0  1  2  3  4  5]\n",
      "  [ 6  7  8  9 10 11]\n",
      "  [12 13 14 15 16 17]\n",
      "  [18 19 20 21 22 23]\n",
      "  [24 25 26 27 28 29]]\n",
      "\n",
      " [[ 0  1  2  3  4  5]\n",
      "  [ 6  7  8  9 10 11]\n",
      "  [12 13 14 15 16 17]\n",
      "  [18 19 20 21 22 23]\n",
      "  [24 25 26 27 28 29]]\n",
      "\n",
      " [[ 0  1  2  3  4  5]\n",
      "  [ 6  7  8  9 10 11]\n",
      "  [12 13 14 15 16 17]\n",
      "  [18 19 20 21 22 23]\n",
      "  [24 25 26 27 28 29]]\n",
      "\n",
      " [[ 0  1  2  3  4  5]\n",
      "  [ 6  7  8  9 10 11]\n",
      "  [12 13 14 15 16 17]\n",
      "  [18 19 20 21 22 23]\n",
      "  [24 25 26 27 28 29]]\n",
      "\n",
      " [[ 0  1  2  3  4  5]\n",
      "  [ 6  7  8  9 10 11]\n",
      "  [12 13 14 15 16 17]\n",
      "  [18 19 20 21 22 23]\n",
      "  [24 25 26 27 28 29]]]\n",
      "[[[ 0.  0.  0.  0.  0.  0.]\n",
      "  [ 0.  1.  0.  0.  0.  0.]\n",
      "  [ 0.  0.  2.  0.  0.  0.]\n",
      "  [ 0.  0.  0.  3.  0.  0.]\n",
      "  [ 0.  0.  0.  0.  4.  0.]\n",
      "  [ 0.  0.  0.  0.  0.  5.]]\n",
      "\n",
      " [[ 6.  0.  0.  0.  0.  0.]\n",
      "  [ 0.  7.  0.  0.  0.  0.]\n",
      "  [ 0.  0.  8.  0.  0.  0.]\n",
      "  [ 0.  0.  0.  9.  0.  0.]\n",
      "  [ 0.  0.  0.  0. 10.  0.]\n",
      "  [ 0.  0.  0.  0.  0. 11.]]\n",
      "\n",
      " [[12.  0.  0.  0.  0.  0.]\n",
      "  [ 0. 13.  0.  0.  0.  0.]\n",
      "  [ 0.  0. 14.  0.  0.  0.]\n",
      "  [ 0.  0.  0. 15.  0.  0.]\n",
      "  [ 0.  0.  0.  0. 16.  0.]\n",
      "  [ 0.  0.  0.  0.  0. 17.]]\n",
      "\n",
      " [[18.  0.  0.  0.  0.  0.]\n",
      "  [ 0. 19.  0.  0.  0.  0.]\n",
      "  [ 0.  0. 20.  0.  0.  0.]\n",
      "  [ 0.  0.  0. 21.  0.  0.]\n",
      "  [ 0.  0.  0.  0. 22.  0.]\n",
      "  [ 0.  0.  0.  0.  0. 23.]]\n",
      "\n",
      " [[24.  0.  0.  0.  0.  0.]\n",
      "  [ 0. 25.  0.  0.  0.  0.]\n",
      "  [ 0.  0. 26.  0.  0.  0.]\n",
      "  [ 0.  0.  0. 27.  0.  0.]\n",
      "  [ 0.  0.  0.  0. 28.  0.]\n",
      "  [ 0.  0.  0.  0.  0. 29.]]]\n"
     ]
    }
   ],
   "source": [
    "b = np.arange(30).reshape((5,6))\n",
    "B = np.tile(A = b, reps = (6,1,1))\n",
    "print(B)\n",
    "print(np.einsum('inj, ij -> nij', B, np.identity(6)))\n",
    "\n"
   ]
  },
  {
   "cell_type": "code",
   "execution_count": 14,
   "metadata": {},
   "outputs": [
    {
     "data": {
      "text/plain": [
       "array([[0, 0, 0, 0, 0],\n",
       "       [0, 1, 0, 0, 0],\n",
       "       [0, 0, 2, 0, 0],\n",
       "       [0, 0, 0, 3, 0],\n",
       "       [0, 0, 0, 0, 4]])"
      ]
     },
     "execution_count": 14,
     "metadata": {},
     "output_type": "execute_result"
    }
   ],
   "source": [
    "np.diag(a)"
   ]
  },
  {
   "cell_type": "code",
   "execution_count": 19,
   "metadata": {},
   "outputs": [
    {
     "name": "stdout",
     "output_type": "stream",
     "text": [
      "(2, 2, 2)\n"
     ]
    },
    {
     "data": {
      "text/plain": [
       "array([[ 0.33333333, -0.33333333],\n",
       "       [-0.33333333,  0.33333333]])"
      ]
     },
     "execution_count": 19,
     "metadata": {},
     "output_type": "execute_result"
    }
   ],
   "source": [
    "A = np.array([np.identity(2), np.identity(2)])\n",
    "print(A.shape)\n",
    "np.cov(A.reshape(4,2), rowvar=False)\n",
    "\n"
   ]
  },
  {
   "cell_type": "code",
   "execution_count": 7,
   "metadata": {},
   "outputs": [
    {
     "data": {
      "text/plain": [
       "array([[ 0.5, -0.5],\n",
       "       [-0.5,  0.5]])"
      ]
     },
     "execution_count": 7,
     "metadata": {},
     "output_type": "execute_result"
    }
   ],
   "source": [
    "np.cov(A)"
   ]
  },
  {
   "cell_type": "code",
   "execution_count": 43,
   "metadata": {},
   "outputs": [
    {
     "name": "stdout",
     "output_type": "stream",
     "text": [
      "[1, 2, 3]\n"
     ]
    }
   ],
   "source": [
    "L = [1,2,3][:3]\n",
    "print(L)"
   ]
  }
 ],
 "metadata": {
  "kernelspec": {
   "display_name": "Python 3",
   "language": "python",
   "name": "python3"
  },
  "language_info": {
   "codemirror_mode": {
    "name": "ipython",
    "version": 3
   },
   "file_extension": ".py",
   "mimetype": "text/x-python",
   "name": "python",
   "nbconvert_exporter": "python",
   "pygments_lexer": "ipython3",
   "version": "3.7.3"
  }
 },
 "nbformat": 4,
 "nbformat_minor": 2
}
