{
 "cells": [
  {
   "cell_type": "code",
   "execution_count": 1,
   "metadata": {},
   "outputs": [],
   "source": [
    "import numpy as np\n",
    "import matplotlib.pyplot as plt\n",
    "from KalmanFilter import KalmanFilter"
   ]
  },
  {
   "cell_type": "code",
   "execution_count": 80,
   "metadata": {},
   "outputs": [],
   "source": [
    "def gen_nlin_toy_example(a_0, K):\n",
    "    a = np.zeros((N, K, 1))\n",
    "    y = np.zeros((N, K, 1))\n",
    "    \n",
    "    a_noise = np.random.normal(loc=0, scale=1, size=(N,K-1,1))\n",
    "    y_noise = np.random.normal(loc=0, scale=1, size=(N,K,1))\n",
    "    \n",
    "    a[:, 0, :] = a_0\n",
    "    \n",
    "    for k in range(1, K):\n",
    "        a[:, k, :] = np.sin(a[:, k-1, :]) + a_noise[:, k-1, :]\n",
    "    \n",
    "    y = np.tanh(a) + y_noise\n",
    "    \n",
    "    return a,y\n",
    "\n",
    "def gen_lin_toy_example(a_0, K, F, Q, G, R):\n",
    "    N, D = a_0.shape\n",
    "    H, D = G.shape\n",
    "    \n",
    "    a = np.zeros((N, K, D))\n",
    "    y = np.zeros((N, K, H))\n",
    "    \n",
    "    a_noise = np.random.multivariate_normal(mean=np.zeros((D,)),\n",
    "                                            cov=Q,\n",
    "                                            size=(N,K-1))\n",
    "    \n",
    "    y_noise = np.random.multivariate_normal(mean=np.zeros((H,)),\n",
    "                                            cov=R,\n",
    "                                            size=(N,K))\n",
    "    \n",
    "    a[:, 0, :] = a_0\n",
    "    \n",
    "    for k in range(1,K):\n",
    "        a[:, k, :] = a[:, k-1, :]@(F.T) + a_noise[:, k-1, :]\n",
    "        \n",
    "    y = np.einsum('hd, nkd -> nkh', G, a) + y_noise\n",
    "    \n",
    "    return a, y       "
   ]
  },
  {
   "cell_type": "code",
   "execution_count": 81,
   "metadata": {},
   "outputs": [],
   "source": [
    "N = 100\n",
    "K = 50\n",
    "D = 5\n",
    "H = 7\n",
    "a_0 = np.zeros((N, D))\n",
    "F = np.ones((D,D))/1000\n",
    "Q = np.identity(D)\n",
    "\n",
    "G = np.ones((H,D))/1000\n",
    "R = np.identity(H)\n",
    "\n",
    "a, y = gen_lin_toy_example(a_0=a_0,\n",
    "                    K=K,\n",
    "                    F=F,\n",
    "                    Q=Q,\n",
    "                    G=G,\n",
    "                    R=R)"
   ]
  },
  {
   "cell_type": "code",
   "execution_count": 82,
   "metadata": {},
   "outputs": [
    {
     "name": "stdout",
     "output_type": "stream",
     "text": [
      "F : [[ 0.0011981  -0.00402781  0.00959868  0.01674453  0.00838557]\n",
      " [-0.00135663 -0.02068271 -0.00505388  0.00010826  0.0087078 ]\n",
      " [ 0.00757599 -0.01218428  0.00620988 -0.02210939  0.01602968]\n",
      " [ 0.00307884 -0.00194115 -0.0053441   0.01103069 -0.01366042]\n",
      " [ 0.00069284  0.00148566 -0.01244044  0.01684879 -0.00688294]]\n",
      "F.shape : (5, 5)\n",
      "Q : [[ 9.66292811e-01 -2.04375165e-02 -1.35702384e-02 -8.36646920e-04\n",
      "  -3.42872720e-05]\n",
      " [-2.04375165e-02  1.02285109e+00 -8.79201797e-03 -6.67020245e-03\n",
      "   2.09663251e-02]\n",
      " [-1.35702384e-02 -8.79201797e-03  1.02589602e+00 -6.19984979e-03\n",
      "  -3.77603575e-03]\n",
      " [-8.36646920e-04 -6.67020245e-03 -6.19984979e-03  1.01043650e+00\n",
      "  -1.51634003e-02]\n",
      " [-3.42872720e-05  2.09663251e-02 -3.77603575e-03 -1.51634003e-02\n",
      "   9.97395358e-01]]\n",
      "Q.shape : (5, 5)\n",
      "G : [[-0.02070878  0.00158429  0.01605855  0.01147298 -0.03072323]\n",
      " [-0.00268111  0.01623978  0.01656802 -0.00449686  0.01255599]\n",
      " [-0.01046907  0.00225117  0.00671531  0.00801757 -0.01720669]\n",
      " [ 0.0072769   0.00483479  0.00812279  0.00224022 -0.01416943]\n",
      " [-0.02021834  0.00924403  0.01480515 -0.00414282  0.00705091]\n",
      " [-0.01513866  0.02099475  0.01011428 -0.01161325 -0.00459267]\n",
      " [-0.0071531  -0.01487481  0.04004335  0.0087806   0.01360731]]\n",
      "G.shape (7, 5)\n",
      "R : [[ 9.85007713e-01 -3.21815679e-03  3.07635987e-02 -2.02435815e-02\n",
      "   7.58778948e-03 -4.48090319e-04 -3.96240467e-03]\n",
      " [-3.21815679e-03  1.01746778e+00 -2.51636008e-02 -7.94950546e-03\n",
      "   6.75378019e-03  5.57459517e-03 -2.40953271e-02]\n",
      " [ 3.07635987e-02 -2.51636008e-02  9.99985132e-01  1.64241410e-02\n",
      "  -8.46709914e-03 -4.61149376e-03  7.66955397e-03]\n",
      " [-2.02435815e-02 -7.94950546e-03  1.64241410e-02  9.76993880e-01\n",
      "   2.21046203e-02  1.51545057e-02 -2.46139999e-02]\n",
      " [ 7.58778948e-03  6.75378019e-03 -8.46709914e-03  2.21046203e-02\n",
      "   1.01962660e+00 -3.15041912e-02  9.82339380e-03]\n",
      " [-4.48090319e-04  5.57459517e-03 -4.61149376e-03  1.51545057e-02\n",
      "  -3.15041912e-02  1.00939313e+00  5.72901140e-03]\n",
      " [-3.96240467e-03 -2.40953271e-02  7.66955397e-03 -2.46139999e-02\n",
      "   9.82339380e-03  5.72901140e-03  9.77802571e-01]]\n",
      "R.shape : (7, 7)\n"
     ]
    }
   ],
   "source": [
    "kalman_filter_lin = KalmanFilter(params_path=params_path, verbose=True)\n",
    "kalman_filter_lin.fit(A=a, Y=y, lmbda=1)"
   ]
  },
  {
   "cell_type": "code",
   "execution_count": 79,
   "metadata": {},
   "outputs": [
    {
     "name": "stdout",
     "output_type": "stream",
     "text": [
      "[[ 0.          0.          0.          0.          0.        ]\n",
      " [ 0.81998296  0.56536079  0.04352867  2.30770688  1.46463194]\n",
      " [-2.19863778  0.35266429  0.68143264 -0.80257369 -2.46902951]\n",
      " ...\n",
      " [ 1.78602913  0.51771468  1.29146908  0.16765154 -0.317452  ]\n",
      " [ 0.18529664  0.11494106  0.6527063  -0.9102833  -1.77623775]\n",
      " [-0.67790669  0.11305507 -2.6272002   0.27234785  0.0314202 ]]\n",
      "[[ 0.          0.          0.         ...  0.          0.\n",
      "   0.        ]\n",
      " [ 0.00520121  0.00520121  0.00520121 ...  0.00520121  0.00520121\n",
      "   0.00520121]\n",
      " [-0.00443614 -0.00443614 -0.00443614 ... -0.00443614 -0.00443614\n",
      "  -0.00443614]\n",
      " ...\n",
      " [ 0.00344541  0.00344541  0.00344541 ...  0.00344541  0.00344541\n",
      "   0.00344541]\n",
      " [-0.00173358 -0.00173358 -0.00173358 ... -0.00173358 -0.00173358\n",
      "  -0.00173358]\n",
      " [-0.00288828 -0.00288828 -0.00288828 ... -0.00288828 -0.00288828\n",
      "  -0.00288828]]\n"
     ]
    },
    {
     "data": {
      "text/plain": [
       "array([[0.0009998 , 0.0009998 , 0.0009998 , 0.0009998 , 0.00099981],\n",
       "       [0.0009998 , 0.0009998 , 0.0009998 , 0.0009998 , 0.00099981],\n",
       "       [0.0009998 , 0.0009998 , 0.0009998 , 0.0009998 , 0.00099981],\n",
       "       [0.0009998 , 0.0009998 , 0.0009998 , 0.0009998 , 0.00099981],\n",
       "       [0.0009998 , 0.0009998 , 0.0009998 , 0.0009998 , 0.00099981],\n",
       "       [0.0009998 , 0.0009998 , 0.0009998 , 0.0009998 , 0.00099981],\n",
       "       [0.0009998 , 0.0009998 , 0.0009998 , 0.0009998 , 0.00099981]])"
      ]
     },
     "execution_count": 79,
     "metadata": {},
     "output_type": "execute_result"
    }
   ],
   "source": [
    "a_rav = a.reshape((N*K, D))\n",
    "y_rav = y.reshape((N*K, H))\n",
    "print(a_rav)\n",
    "print(y_rav)\n",
    "\n",
    "\n",
    "kalman_filter_lin.G"
   ]
  },
  {
   "cell_type": "code",
   "execution_count": 3,
   "metadata": {},
   "outputs": [],
   "source": [
    "K = 50\n",
    "N = 50\n",
    "D = 1\n",
    "a_0 = np.zeros((N,D))\n",
    "a, y = gen_toy_example(a_0, K, N)"
   ]
  },
  {
   "cell_type": "code",
   "execution_count": 4,
   "metadata": {},
   "outputs": [
    {
     "data": {
      "image/png": "[encoded data removed]",
      "text/plain": [
       "<Figure size 432x288 with 1 Axes>"
      ]
     },
     "metadata": {
      "needs_background": "light"
     },
     "output_type": "display_data"
    }
   ],
   "source": [
    "#visualisation of one trajectory\n",
    "num_state = np.arange(K)\n",
    "plt.figure()\n",
    "plt.plot(num_state, a[0], color='blue', label='true state')\n",
    "plt.scatter(num_state, y[0], marker='*', color='red', label='observation')\n",
    "plt.legend()\n",
    "plt.show()"
   ]
  },
  {
   "cell_type": "code",
   "execution_count": 5,
   "metadata": {},
   "outputs": [],
   "source": [
    "params_path = 'coucou'\n",
    "verbose = True\n",
    "kalman_filter = KalmanFilter(params_path=params_path,\n",
    "                             verbose=verbose)"
   ]
  },
  {
   "cell_type": "code",
   "execution_count": 6,
   "metadata": {},
   "outputs": [
    {
     "name": "stdout",
     "output_type": "stream",
     "text": [
      "F : [[0.49101789]]\n",
      "F.shape : (1, 1)\n",
      "Q : [[1.11911834]]\n",
      "Q.shape : (1, 1)\n",
      "G : [[0.52243888]]\n",
      "G.shape (1, 1)\n",
      "R : [[1.08598856]]\n",
      "R.shape : (1, 1)\n"
     ]
    }
   ],
   "source": [
    "kalman_filter.fit(A=a, Y=y, lmbda=0.2)"
   ]
  },
  {
   "cell_type": "code",
   "execution_count": 17,
   "metadata": {},
   "outputs": [],
   "source": [
    "a_pred, P_pred = kalman_filter.predict(Y=y, a_0=np.zeros((N,D)), P_0=np.tile(A=np.identity(D)[np.newaxis,: , :], reps=(N,1,1)))"
   ]
  },
  {
   "cell_type": "code",
   "execution_count": 15,
   "metadata": {},
   "outputs": [
    {
     "name": "stdout",
     "output_type": "stream",
     "text": [
      "(50, 50, 1)\n",
      "[[ 0.        ]\n",
      " [ 0.01530201]\n",
      " [-0.45804877]\n",
      " [-0.79691251]\n",
      " [-0.79832629]\n",
      " [ 0.2672208 ]\n",
      " [ 0.03514935]\n",
      " [ 0.83960322]\n",
      " [-0.36370653]\n",
      " [-0.83963139]\n",
      " [ 0.99812073]\n",
      " [-0.31959942]\n",
      " [ 0.88016351]\n",
      " [ 0.06484841]\n",
      " [-0.05528753]\n",
      " [-0.45288327]\n",
      " [-0.87560701]\n",
      " [-0.65780823]\n",
      " [-0.00805403]\n",
      " [-0.58227523]\n",
      " [-0.00993581]\n",
      " [-0.42763848]\n",
      " [-0.20148648]\n",
      " [-0.56782641]\n",
      " [-0.4282223 ]\n",
      " [-0.65914234]\n",
      " [-0.08873812]\n",
      " [ 0.29871328]\n",
      " [-0.01541776]\n",
      " [ 0.69238304]\n",
      " [-0.86033941]\n",
      " [-0.82550964]\n",
      " [-0.12348763]\n",
      " [ 0.63787455]\n",
      " [ 1.17267972]\n",
      " [ 0.16861866]\n",
      " [-0.3846805 ]\n",
      " [-0.41628032]\n",
      " [-0.6551099 ]\n",
      " [ 0.36419622]\n",
      " [ 0.17396656]\n",
      " [-0.11040761]\n",
      " [ 0.06506864]\n",
      " [ 0.68145229]\n",
      " [ 1.53108968]\n",
      " [ 0.9465704 ]\n",
      " [ 0.35095352]\n",
      " [ 0.6262546 ]\n",
      " [ 1.5442944 ]\n",
      " [-0.02051838]]\n",
      "(50, 50, 1, 1)\n"
     ]
    }
   ],
   "source": [
    "print(a.shape)\n",
    "print(a[0])\n",
    "print(P.shape)"
   ]
  },
  {
   "cell_type": "code",
   "execution_count": 18,
   "metadata": {},
   "outputs": [
    {
     "data": {
      "image/png": "[encoded data removed]",
      "text/plain": [
       "<Figure size 432x288 with 1 Axes>"
      ]
     },
     "metadata": {
      "needs_background": "light"
     },
     "output_type": "display_data"
    }
   ],
   "source": [
    "#visualisation of one trajectory\n",
    "num_state = np.arange(K)\n",
    "plt.figure()\n",
    "plt.plot(num_state, a[0], color='blue', label='true state')\n",
    "plt.plot(num_state, a_pred[0], color='green', label='estimated state')\n",
    "plt.scatter(num_state, y[0], marker='*', color='red', label='observation')\n",
    "plt.legend()\n",
    "plt.show()"
   ]
  },
  {
   "cell_type": "code",
   "execution_count": 25,
   "metadata": {},
   "outputs": [
    {
     "ename": "TypeError",
     "evalue": "fit() got an unexpected keyword argument 'y'",
     "output_type": "error",
     "traceback": [
      "\u001b[0;31m-----------------------------------------------------------------------\u001b[0m",
      "\u001b[0;31mTypeError\u001b[0m                             Traceback (most recent call last)",
      "\u001b[0;32m<ipython-input-25-62f8a0d501d9>\u001b[0m in \u001b[0;36m<module>\u001b[0;34m\u001b[0m\n\u001b[1;32m      8\u001b[0m \u001b[0ma_test\u001b[0m\u001b[0;34m,\u001b[0m \u001b[0my_test\u001b[0m \u001b[0;34m=\u001b[0m \u001b[0mgen_toy_example\u001b[0m\u001b[0;34m(\u001b[0m\u001b[0ma_0\u001b[0m\u001b[0;34m=\u001b[0m\u001b[0mnp\u001b[0m\u001b[0;34m.\u001b[0m\u001b[0mzeros\u001b[0m\u001b[0;34m(\u001b[0m\u001b[0;34m(\u001b[0m\u001b[0mN_test\u001b[0m\u001b[0;34m,\u001b[0m \u001b[0mD\u001b[0m\u001b[0;34m)\u001b[0m\u001b[0;34m)\u001b[0m\u001b[0;34m,\u001b[0m \u001b[0mK\u001b[0m\u001b[0;34m=\u001b[0m\u001b[0mK_test\u001b[0m\u001b[0;34m,\u001b[0m \u001b[0mN\u001b[0m\u001b[0;34m=\u001b[0m\u001b[0mN_test\u001b[0m\u001b[0;34m)\u001b[0m\u001b[0;34m\u001b[0m\u001b[0;34m\u001b[0m\u001b[0m\n\u001b[1;32m      9\u001b[0m \u001b[0;34m\u001b[0m\u001b[0m\n\u001b[0;32m---> 10\u001b[0;31m \u001b[0mkalman_filter\u001b[0m\u001b[0;34m.\u001b[0m\u001b[0mfit\u001b[0m\u001b[0;34m(\u001b[0m\u001b[0mA\u001b[0m\u001b[0;34m=\u001b[0m\u001b[0ma_train\u001b[0m\u001b[0;34m,\u001b[0m \u001b[0my\u001b[0m\u001b[0;34m=\u001b[0m\u001b[0my_train\u001b[0m\u001b[0;34m)\u001b[0m\u001b[0;34m\u001b[0m\u001b[0;34m\u001b[0m\u001b[0m\n\u001b[0m",
      "\u001b[0;31mTypeError\u001b[0m: fit() got an unexpected keyword argument 'y'"
     ]
    }
   ],
   "source": [
    "K_train = 50\n",
    "N_train = 50\n",
    "\n",
    "K_test = 20\n",
    "N_test = 20\n",
    "\n",
    "a_train, y_train = gen_toy_example(a_0=np.zeros((N_train, D)), K=K_train, N=N_train)\n",
    "a_test, y_test = gen_toy_example(a_0=np.zeros((N_test, D)), K=K_test, N=N_test)"
   ]
  },
  {
   "cell_type": "code",
   "execution_count": 26,
   "metadata": {},
   "outputs": [
    {
     "name": "stdout",
     "output_type": "stream",
     "text": [
      "F : [[0.49944437]]\n",
      "F.shape : (1, 1)\n",
      "Q : [[1.17945765]]\n",
      "Q.shape : (1, 1)\n",
      "G : [[0.51910643]]\n",
      "G.shape (1, 1)\n",
      "R : [[0.9933873]]\n",
      "R.shape : (1, 1)\n"
     ]
    }
   ],
   "source": [
    "lmbda = 1e-2\n",
    "kalman_filter.fit(A=a_train, Y=y_train, lmbda=lmbda)"
   ]
  },
  {
   "cell_type": "code",
   "execution_count": 29,
   "metadata": {},
   "outputs": [],
   "source": [
    "a_pred, P_pred = kalman_filter.predict(Y=y_test, a_0=np.zeros((N_test,D)), P_0=np.tile(A=np.identity(D)[np.newaxis,: , :], reps=(N_test,1,1)))"
   ]
  },
  {
   "cell_type": "code",
   "execution_count": 32,
   "metadata": {},
   "outputs": [
    {
     "data": {
      "image/png": "[encoded data removed]",
      "text/plain": [
       "<Figure size 432x288 with 1 Axes>"
      ]
     },
     "metadata": {
      "needs_background": "light"
     },
     "output_type": "display_data"
    }
   ],
   "source": [
    "#visualisation of one trajectory\n",
    "num_state = np.arange(K_test)\n",
    "plt.figure()\n",
    "plt.plot(num_state, a_test[0], color='blue', label='true state')\n",
    "plt.plot(num_state, a_pred[0], color='green', label='estimated state')\n",
    "plt.scatter(num_state, y_test[0], marker='*', color='red', label='observation')\n",
    "plt.xlabel('time')\n",
    "plt.ylabel('state')\n",
    "plt.legend()\n",
    "plt.show()"
   ]
  },
  {
   "cell_type": "code",
   "execution_count": null,
   "metadata": {},
   "outputs": [],
   "source": [
    "P = np.ones((5,7))\n",
    "\n",
    "F = 2*np.ones((2,7))\n",
    "\n",
    "a = P[0,:]\n",
    "print(P@F.T)"
   ]
  },
  {
   "cell_type": "code",
   "execution_count": 43,
   "metadata": {},
   "outputs": [
    {
     "data": {
      "text/plain": [
       "(7, 5)"
      ]
     },
     "execution_count": 43,
     "metadata": {},
     "output_type": "execute_result"
    }
   ],
   "source": [
    "np.random.multivariate_normal(mean=np.zeros((5,)), cov = np.identity(5), size=7).shape"
   ]
  }
 ],
 "metadata": {
  "kernelspec": {
   "display_name": "Python 3",
   "language": "python",
   "name": "python3"
  },
  "language_info": {
   "codemirror_mode": {
    "name": "ipython",
    "version": 3
   },
   "file_extension": ".py",
   "mimetype": "text/x-python",
   "name": "python",
   "nbconvert_exporter": "python",
   "pygments_lexer": "ipython3",
   "version": "3.7.3"
  }
 },
 "nbformat": 4,
 "nbformat_minor": 2
}
