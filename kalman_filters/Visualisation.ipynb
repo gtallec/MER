{
 "cells": [
  {
   "cell_type": "code",
   "execution_count": 1,
   "metadata": {},
   "outputs": [],
   "source": [
    "import numpy as np\n",
    "import matplotlib.pyplot as plt\n",
    "from KalmanFilter import KalmanFilter\n",
    "from toy_examples import gen_lin_toy_example, gen_nlin_toy_example"
   ]
  },
  {
   "cell_type": "code",
   "execution_count": 80,
   "metadata": {},
   "outputs": [],
   "source": [
    "def gen_nlin_toy_example(a_0, K):\n",
    "    a = np.zeros((N, K, 1))\n",
    "    y = np.zeros((N, K, 1))\n",
    "    \n",
    "    a_noise = np.random.normal(loc=0, scale=1, size=(N,K-1,1))\n",
    "    y_noise = np.random.normal(loc=0, scale=1, size=(N,K,1))\n",
    "    \n",
    "    a[:, 0, :] = a_0\n",
    "    \n",
    "    for k in range(1, K):\n",
    "        a[:, k, :] = np.sin(a[:, k-1, :]) + a_noise[:, k-1, :]\n",
    "    \n",
    "    y = np.tanh(a) + y_noise\n",
    "    \n",
    "    return a,y\n",
    "\n",
    "def gen_lin_toy_example(a_0, K, F, Q, G, R):\n",
    "    N, D = a_0.shape\n",
    "    H, D = G.shape\n",
    "    \n",
    "    a = np.zeros((N, K, D))\n",
    "    y = np.zeros((N, K, H))\n",
    "    \n",
    "    a_noise = np.random.multivariate_normal(mean=np.zeros((D,)),\n",
    "                                            cov=Q,\n",
    "                                            size=(N,K-1))\n",
    "    \n",
    "    y_noise = np.random.multivariate_normal(mean=np.zeros((H,)),\n",
    "                                            cov=R,\n",
    "                                            size=(N,K))\n",
    "    \n",
    "    a[:, 0, :] = a_0\n",
    "    \n",
    "    for k in range(1,K):\n",
    "        a[:, k, :] = a[:, k-1, :]@(F.T) + a_noise[:, k-1, :]\n",
    "        \n",
    "    y = np.einsum('hd, nkd -> nkh', G, a) + y_noise\n",
    "    \n",
    "    return a, y       "
   ]
  },
  {
   "cell_type": "code",
   "execution_count": 16,
   "metadata": {},
   "outputs": [],
   "source": [
    "N = 10000\n",
    "K = 50\n",
    "D = 10\n",
    "H = 10\n",
    "a_0 = np.zeros((N, D))\n",
    "F = np.ones((D,D))/1000\n",
    "Q = np.identity(D)\n",
    "\n",
    "G = np.ones((H,D))/1000\n",
    "R = np.identity(H)\n",
    "\n",
    "a, y = gen_lin_toy_example(a_0=a_0,\n",
    "                    K=K,\n",
    "                    F=F,\n",
    "                    Q=Q,\n",
    "                    G=G,\n",
    "                    R=R)"
   ]
  },
  {
   "cell_type": "code",
   "execution_count": null,
   "metadata": {},
   "outputs": [],
   "source": [
    "\n",
    "    "
   ]
  },
  {
   "cell_type": "code",
   "execution_count": 17,
   "metadata": {},
   "outputs": [
    {
     "name": "stdout",
     "output_type": "stream",
     "text": [
      "F : [[ 3.71786596e-03  2.74148678e-03  1.55783600e-03 -2.04687493e-03\n",
      "   2.29404330e-03  2.15480060e-03 -1.05619018e-03 -4.13868256e-04\n",
      "  -2.81515165e-03  7.57846304e-04]\n",
      " [-7.42220472e-04  2.31007260e-03  3.93856627e-05 -2.01485160e-04\n",
      "   1.14822749e-03  1.72454635e-03  8.75627575e-04  1.11964607e-04\n",
      "  -7.29529164e-04  1.05530160e-04]\n",
      " [ 2.39545416e-04  1.39350369e-03  1.46511678e-04  2.19956827e-03\n",
      "  -2.09210625e-04  1.70499677e-03  2.61215131e-03  9.97720722e-04\n",
      "  -7.62007316e-04  1.31687149e-03]\n",
      " [ 5.06707633e-04  2.82147900e-03  9.37104116e-04  2.97433701e-04\n",
      "   1.77376647e-03  5.04940534e-04  2.09570216e-03 -2.31838397e-04\n",
      "   3.57108458e-04  2.38970037e-03]\n",
      " [ 3.39481159e-03  2.80040739e-03  1.99849686e-03  1.26661774e-03\n",
      "  -1.16314081e-03  1.49763113e-03  2.78423537e-03  3.80124673e-03\n",
      "  -6.05886554e-04  1.26953860e-03]\n",
      " [ 1.82384264e-03 -1.71956885e-03  1.67687409e-03  2.05721002e-04\n",
      "   2.50406394e-03  1.86279885e-03  4.37517711e-04 -3.52115323e-06\n",
      "   2.56284130e-03 -5.18949674e-05]\n",
      " [-7.09441491e-04 -2.09846175e-03  8.03794722e-04 -3.55704549e-03\n",
      "   6.25296887e-04  6.25408441e-04  4.24438410e-04  8.31737140e-04\n",
      "   1.25982636e-05 -1.50574751e-04]\n",
      " [-1.09439237e-05 -2.52591553e-03  1.51379167e-03  1.01145193e-03\n",
      "   6.91484462e-04 -6.88936627e-04  3.35484885e-04 -1.64086835e-03\n",
      "   1.43127737e-03  1.55861534e-03]\n",
      " [ 2.52382474e-04  1.91810739e-03  3.50217406e-03  1.88933349e-03\n",
      "   2.43276421e-04  3.00693502e-03 -2.13991261e-04  1.30009690e-03\n",
      "   2.93256122e-03  1.28457992e-03]\n",
      " [ 6.95345920e-04 -1.50258736e-04 -8.69976138e-04  5.40495100e-05\n",
      "   1.63395690e-03  2.53310456e-03  1.97451518e-03 -4.32994233e-04\n",
      "   2.60379404e-05  1.97189711e-03]]\n",
      "F.shape : (10, 10)\n",
      "Q : [[ 1.00108721e+00 -2.34717929e-03  1.17556078e-03  3.44984918e-04\n",
      "  -8.24583603e-04  1.25697181e-03 -2.90399326e-04 -4.92670111e-04\n",
      "   1.51546467e-03  2.69497865e-03]\n",
      " [-2.34717929e-03  1.00150556e+00  1.66407454e-03  5.29838350e-04\n",
      "  -2.30734626e-03 -1.03081141e-03 -1.57242857e-03 -2.56972364e-03\n",
      "  -1.74508935e-03 -2.63593196e-03]\n",
      " [ 1.17556078e-03  1.66407454e-03  1.00227501e+00 -1.55421743e-03\n",
      "   8.06055748e-04 -2.82901554e-04 -2.87385665e-03  1.61164599e-04\n",
      "  -5.41278627e-04 -1.30996561e-03]\n",
      " [ 3.44984918e-04  5.29838350e-04 -1.55421743e-03  1.00188738e+00\n",
      "  -1.91644454e-03  1.05712311e-03 -2.96893349e-04 -2.17925963e-03\n",
      "  -1.10393067e-03 -7.31231518e-04]\n",
      " [-8.24583603e-04 -2.30734626e-03  8.06055748e-04 -1.91644454e-03\n",
      "   1.00172644e+00  1.40480763e-03 -1.54959778e-03 -6.43024060e-04\n",
      "  -5.97590028e-04 -2.02471532e-03]\n",
      " [ 1.25697181e-03 -1.03081141e-03 -2.82901554e-04  1.05712311e-03\n",
      "   1.40480763e-03  1.00170947e+00  9.08615290e-04 -7.69027858e-04\n",
      "  -1.33598440e-03  4.25017247e-04]\n",
      " [-2.90399326e-04 -1.57242857e-03 -2.87385665e-03 -2.96893349e-04\n",
      "  -1.54959778e-03  9.08615290e-04  9.98943606e-01  2.18725127e-03\n",
      "  -2.27412586e-03  2.16391734e-03]\n",
      " [-4.92670111e-04 -2.56972364e-03  1.61164599e-04 -2.17925963e-03\n",
      "  -6.43024060e-04 -7.69027858e-04  2.18725127e-03  9.98753242e-01\n",
      "   6.98318397e-04 -1.65698106e-03]\n",
      " [ 1.51546467e-03 -1.74508935e-03 -5.41278627e-04 -1.10393067e-03\n",
      "  -5.97590028e-04 -1.33598440e-03 -2.27412586e-03  6.98318397e-04\n",
      "   9.98227986e-01 -5.56376359e-04]\n",
      " [ 2.69497865e-03 -2.63593196e-03 -1.30996561e-03 -7.31231518e-04\n",
      "  -2.02471532e-03  4.25017247e-04  2.16391734e-03 -1.65698106e-03\n",
      "  -5.56376359e-04  9.99415787e-01]]\n",
      "Q.shape : (10, 10)\n",
      "G : [[-7.17162246e-05  1.26119743e-03  8.72493189e-04 -1.23489998e-03\n",
      "  -1.32988849e-03  2.11995099e-03 -3.15365076e-03 -3.34186095e-04\n",
      "   2.28399080e-03  2.38407449e-03]\n",
      " [ 5.84579018e-04  2.71394623e-03  1.85972104e-03  1.93775741e-03\n",
      "   3.04168683e-03  3.61555928e-03 -1.05577978e-03  3.35926733e-03\n",
      "   2.29629706e-03 -3.31684296e-04]\n",
      " [-6.27141203e-04  8.50945185e-04  1.58505505e-03 -8.02322199e-04\n",
      "  -1.46658208e-03 -5.81370753e-04 -1.22801252e-03  2.51894558e-03\n",
      "   1.35693271e-03  8.63371416e-04]\n",
      " [ 1.27457995e-03  3.09432513e-04  2.00052244e-03  2.63409751e-03\n",
      "   1.38677924e-03 -5.15338278e-04  2.64941309e-03  9.59898829e-04\n",
      "   1.28231074e-03 -9.87147887e-04]\n",
      " [ 3.40584702e-03 -1.25865529e-03  2.61107308e-03 -2.30022999e-05\n",
      "   3.33471160e-03  3.47903422e-03  8.17661666e-04 -1.91286594e-03\n",
      "   3.68168492e-04  2.87175230e-03]\n",
      " [-6.05408540e-05  2.31933785e-03  1.79240064e-03  1.88998519e-03\n",
      "   2.94568561e-03 -4.48643358e-04  8.61464571e-04 -1.14389956e-03\n",
      "   1.79206995e-03  7.30094596e-04]\n",
      " [ 5.56115159e-04  1.15777584e-03  1.01012261e-03  2.42089384e-03\n",
      "   5.09176034e-04  3.07962699e-03 -4.13332140e-04  1.50610245e-04\n",
      "   1.64478812e-03  1.06780698e-03]\n",
      " [ 1.13296015e-03  2.81179260e-03 -2.05631808e-03  2.86277596e-03\n",
      "   3.17252358e-03  1.27402834e-03  8.60707763e-05  4.96959804e-04\n",
      "   6.22156972e-04  1.64015152e-03]\n",
      " [ 3.63212849e-04  1.08743012e-03  7.77991135e-05  7.03840324e-05\n",
      "  -1.16026210e-03  2.67209853e-03 -1.64253418e-03  1.83573457e-03\n",
      "   2.85189148e-03  1.57539162e-03]\n",
      " [-3.94193191e-04  1.01489827e-03  5.54299635e-03  5.62715737e-04\n",
      "   1.91749897e-03  1.71856066e-03 -4.35223187e-04  3.89964514e-03\n",
      "   1.85924761e-03  3.75010585e-03]]\n",
      "G.shape (10, 10)\n",
      "R : [[ 1.00313778e+00  3.06545597e-04 -3.37779271e-03 -7.59436804e-04\n",
      "   9.65042911e-04 -1.20790942e-03 -1.24907873e-03 -1.04597457e-03\n",
      "   1.43165322e-03  1.25846403e-03]\n",
      " [ 3.06545597e-04  1.00126257e+00 -2.23278363e-03  9.37041607e-04\n",
      "   1.36135184e-03  3.00926369e-03 -2.68738196e-04  1.90771061e-03\n",
      "   4.39198316e-04  1.14049510e-03]\n",
      " [-3.37779271e-03 -2.23278363e-03  9.99352614e-01  1.80142526e-03\n",
      "  -2.00163028e-03  1.29703884e-03  1.15920874e-03  2.66862700e-04\n",
      "   7.90077634e-04  5.32865042e-04]\n",
      " [-7.59436804e-04  9.37041607e-04  1.80142526e-03  1.00036680e+00\n",
      "   5.34121927e-04  9.79113820e-04  2.55078437e-04 -2.99706612e-03\n",
      "  -2.23026223e-03  2.65463701e-03]\n",
      " [ 9.65042911e-04  1.36135184e-03 -2.00163028e-03  5.34121927e-04\n",
      "   1.00311986e+00 -5.53403771e-04  7.11085370e-04  2.56548452e-03\n",
      "   1.53725921e-03 -4.17691589e-05]\n",
      " [-1.20790942e-03  3.00926369e-03  1.29703884e-03  9.79113820e-04\n",
      "  -5.53403771e-04  1.00009320e+00 -4.99280545e-04  2.12051866e-03\n",
      "   2.86066409e-05 -1.81933746e-03]\n",
      " [-1.24907873e-03 -2.68738196e-04  1.15920874e-03  2.55078437e-04\n",
      "   7.11085370e-04 -4.99280545e-04  9.97913564e-01 -5.31512608e-05\n",
      "   9.90293051e-04  1.15416660e-03]\n",
      " [-1.04597457e-03  1.90771061e-03  2.66862700e-04 -2.99706612e-03\n",
      "   2.56548452e-03  2.12051866e-03 -5.31512608e-05  9.98272619e-01\n",
      "   1.86357890e-04 -8.78629472e-04]\n",
      " [ 1.43165322e-03  4.39198316e-04  7.90077634e-04 -2.23026223e-03\n",
      "   1.53725921e-03  2.86066409e-05  9.90293051e-04  1.86357890e-04\n",
      "   1.00172538e+00 -4.89574636e-04]\n",
      " [ 1.25846403e-03  1.14049510e-03  5.32865042e-04  2.65463701e-03\n",
      "  -4.17691589e-05 -1.81933746e-03  1.15416660e-03 -8.78629472e-04\n",
      "  -4.89574636e-04  1.00259741e+00]]\n",
      "R.shape : (10, 10)\n"
     ]
    }
   ],
   "source": [
    "params_path='coucou'\n",
    "kalman_filter_lin = KalmanFilter(params_path=params_path, verbose=True)\n",
    "kalman_filter_lin.fit(A=a, Y=y, lmbda=1e-2)"
   ]
  },
  {
   "cell_type": "code",
   "execution_count": 79,
   "metadata": {},
   "outputs": [
    {
     "name": "stdout",
     "output_type": "stream",
     "text": [
      "[[ 0.          0.          0.          0.          0.        ]\n",
      " [ 0.81998296  0.56536079  0.04352867  2.30770688  1.46463194]\n",
      " [-2.19863778  0.35266429  0.68143264 -0.80257369 -2.46902951]\n",
      " ...\n",
      " [ 1.78602913  0.51771468  1.29146908  0.16765154 -0.317452  ]\n",
      " [ 0.18529664  0.11494106  0.6527063  -0.9102833  -1.77623775]\n",
      " [-0.67790669  0.11305507 -2.6272002   0.27234785  0.0314202 ]]\n",
      "[[ 0.          0.          0.         ...  0.          0.\n",
      "   0.        ]\n",
      " [ 0.00520121  0.00520121  0.00520121 ...  0.00520121  0.00520121\n",
      "   0.00520121]\n",
      " [-0.00443614 -0.00443614 -0.00443614 ... -0.00443614 -0.00443614\n",
      "  -0.00443614]\n",
      " ...\n",
      " [ 0.00344541  0.00344541  0.00344541 ...  0.00344541  0.00344541\n",
      "   0.00344541]\n",
      " [-0.00173358 -0.00173358 -0.00173358 ... -0.00173358 -0.00173358\n",
      "  -0.00173358]\n",
      " [-0.00288828 -0.00288828 -0.00288828 ... -0.00288828 -0.00288828\n",
      "  -0.00288828]]\n"
     ]
    },
    {
     "data": {
      "text/plain": [
       "array([[0.0009998 , 0.0009998 , 0.0009998 , 0.0009998 , 0.00099981],\n",
       "       [0.0009998 , 0.0009998 , 0.0009998 , 0.0009998 , 0.00099981],\n",
       "       [0.0009998 , 0.0009998 , 0.0009998 , 0.0009998 , 0.00099981],\n",
       "       [0.0009998 , 0.0009998 , 0.0009998 , 0.0009998 , 0.00099981],\n",
       "       [0.0009998 , 0.0009998 , 0.0009998 , 0.0009998 , 0.00099981],\n",
       "       [0.0009998 , 0.0009998 , 0.0009998 , 0.0009998 , 0.00099981],\n",
       "       [0.0009998 , 0.0009998 , 0.0009998 , 0.0009998 , 0.00099981]])"
      ]
     },
     "execution_count": 79,
     "metadata": {},
     "output_type": "execute_result"
    }
   ],
   "source": [
    "a_rav = a.reshape((N*K, D))\n",
    "y_rav = y.reshape((N*K, H))\n",
    "print(a_rav)\n",
    "print(y_rav)\n",
    "\n",
    "\n",
    "kalman_filter_lin.G"
   ]
  },
  {
   "cell_type": "code",
   "execution_count": 3,
   "metadata": {},
   "outputs": [],
   "source": [
    "K = 50\n",
    "N = 50\n",
    "D = 1\n",
    "a_0 = np.zeros((N,D))\n",
    "a, y = gen_toy_example(a_0, K, N)"
   ]
  },
  {
   "cell_type": "code",
   "execution_count": 4,
   "metadata": {},
   "outputs": [
    {
     "data": {
      "image/png": "[encoded data removed]",
      "text/plain": [
       "<Figure size 432x288 with 1 Axes>"
      ]
     },
     "metadata": {
      "needs_background": "light"
     },
     "output_type": "display_data"
    }
   ],
   "source": [
    "#visualisation of one trajectory\n",
    "num_state = np.arange(K)\n",
    "plt.figure()\n",
    "plt.plot(num_state, a[0], color='blue', label='true state')\n",
    "plt.scatter(num_state, y[0], marker='*', color='red', label='observation')\n",
    "plt.legend()\n",
    "plt.show()"
   ]
  },
  {
   "cell_type": "code",
   "execution_count": 5,
   "metadata": {},
   "outputs": [],
   "source": [
    "params_path = 'coucou'\n",
    "verbose = True\n",
    "kalman_filter = KalmanFilter(params_path=params_path,\n",
    "                             verbose=verbose)"
   ]
  },
  {
   "cell_type": "code",
   "execution_count": 6,
   "metadata": {},
   "outputs": [
    {
     "name": "stdout",
     "output_type": "stream",
     "text": [
      "F : [[0.49101789]]\n",
      "F.shape : (1, 1)\n",
      "Q : [[1.11911834]]\n",
      "Q.shape : (1, 1)\n",
      "G : [[0.52243888]]\n",
      "G.shape (1, 1)\n",
      "R : [[1.08598856]]\n",
      "R.shape : (1, 1)\n"
     ]
    }
   ],
   "source": [
    "kalman_filter.fit(A=a, Y=y, lmbda=0.2)"
   ]
  },
  {
   "cell_type": "code",
   "execution_count": 17,
   "metadata": {},
   "outputs": [],
   "source": [
    "a_pred, P_pred = kalman_filter.predict(Y=y, a_0=np.zeros((N,D)), P_0=np.tile(A=np.identity(D)[np.newaxis,: , :], reps=(N,1,1)))"
   ]
  },
  {
   "cell_type": "code",
   "execution_count": 15,
   "metadata": {},
   "outputs": [
    {
     "name": "stdout",
     "output_type": "stream",
     "text": [
      "(50, 50, 1)\n",
      "[[ 0.        ]\n",
      " [ 0.01530201]\n",
      " [-0.45804877]\n",
      " [-0.79691251]\n",
      " [-0.79832629]\n",
      " [ 0.2672208 ]\n",
      " [ 0.03514935]\n",
      " [ 0.83960322]\n",
      " [-0.36370653]\n",
      " [-0.83963139]\n",
      " [ 0.99812073]\n",
      " [-0.31959942]\n",
      " [ 0.88016351]\n",
      " [ 0.06484841]\n",
      " [-0.05528753]\n",
      " [-0.45288327]\n",
      " [-0.87560701]\n",
      " [-0.65780823]\n",
      " [-0.00805403]\n",
      " [-0.58227523]\n",
      " [-0.00993581]\n",
      " [-0.42763848]\n",
      " [-0.20148648]\n",
      " [-0.56782641]\n",
      " [-0.4282223 ]\n",
      " [-0.65914234]\n",
      " [-0.08873812]\n",
      " [ 0.29871328]\n",
      " [-0.01541776]\n",
      " [ 0.69238304]\n",
      " [-0.86033941]\n",
      " [-0.82550964]\n",
      " [-0.12348763]\n",
      " [ 0.63787455]\n",
      " [ 1.17267972]\n",
      " [ 0.16861866]\n",
      " [-0.3846805 ]\n",
      " [-0.41628032]\n",
      " [-0.6551099 ]\n",
      " [ 0.36419622]\n",
      " [ 0.17396656]\n",
      " [-0.11040761]\n",
      " [ 0.06506864]\n",
      " [ 0.68145229]\n",
      " [ 1.53108968]\n",
      " [ 0.9465704 ]\n",
      " [ 0.35095352]\n",
      " [ 0.6262546 ]\n",
      " [ 1.5442944 ]\n",
      " [-0.02051838]]\n",
      "(50, 50, 1, 1)\n"
     ]
    }
   ],
   "source": [
    "print(a.shape)\n",
    "print(a[0])\n",
    "print(P.shape)"
   ]
  },
  {
   "cell_type": "code",
   "execution_count": 18,
   "metadata": {},
   "outputs": [
    {
     "data": {
      "image/png": "[encoded data removed]",
      "text/plain": [
       "<Figure size 432x288 with 1 Axes>"
      ]
     },
     "metadata": {
      "needs_background": "light"
     },
     "output_type": "display_data"
    }
   ],
   "source": [
    "#visualisation of one trajectory\n",
    "num_state = np.arange(K)\n",
    "plt.figure()\n",
    "plt.plot(num_state, a[0], color='blue', label='true state')\n",
    "plt.plot(num_state, a_pred[0], color='green', label='estimated state')\n",
    "plt.scatter(num_state, y[0], marker='*', color='red', label='observation')\n",
    "plt.legend()\n",
    "plt.show()"
   ]
  },
  {
   "cell_type": "code",
   "execution_count": 28,
   "metadata": {},
   "outputs": [],
   "source": [
    "K_train = 1000\n",
    "N_train = 1000\n",
    "\n",
    "K_test = 20\n",
    "N_test = 20\n",
    "\n",
    "a_train, y_train = gen_nlin_toy_example(a_0=np.zeros((N_train, 1)), K=K_train)\n",
    "a_test, y_test = gen_nlin_toy_example(a_0=np.zeros((N_test, 1)), K=K_test)"
   ]
  },
  {
   "cell_type": "code",
   "execution_count": 29,
   "metadata": {},
   "outputs": [
    {
     "name": "stdout",
     "output_type": "stream",
     "text": [
      "F : [[0.4893778]]\n",
      "F.shape : (1, 1)\n",
      "Q : [[1.12569264]]\n",
      "Q.shape : (1, 1)\n",
      "G : [[0.53941724]]\n",
      "G.shape (1, 1)\n",
      "R : [[1.04032143]]\n",
      "R.shape : (1, 1)\n"
     ]
    }
   ],
   "source": [
    "lmbda = 1e-2\n",
    "kalman_filter = KalmanFilter(params_path=params_path, verbose = True)\n",
    "kalman_filter.fit(A=a_train, Y=y_train, lmbda=lmbda)"
   ]
  },
  {
   "cell_type": "code",
   "execution_count": 33,
   "metadata": {},
   "outputs": [
    {
     "name": "stdout",
     "output_type": "stream",
     "text": [
      "(20, 20, 1, 1)\n"
     ]
    }
   ],
   "source": [
    "a_pred, P_pred = kalman_filter.predict(Y=y_test, a_0=np.zeros((N_test,1)), P_0=np.tile(A=np.identity(1)[np.newaxis,: , :], reps=(N_test,1,1)))\n",
    "print(P_pred.shape)"
   ]
  },
  {
   "cell_type": "code",
   "execution_count": 36,
   "metadata": {},
   "outputs": [
    {
     "data": {
      "image/png": "[encoded data removed]",
      "text/plain": [
       "<Figure size 432x288 with 1 Axes>"
      ]
     },
     "metadata": {
      "needs_background": "light"
     },
     "output_type": "display_data"
    }
   ],
   "source": [
    "#visualisation of one trajectory\n",
    "num_state = np.arange(K_test)\n",
    "plt.figure()\n",
    "\n",
    "plt.plot(num_state, a_test[0], color='blue', label='true state')\n",
    "plt.plot(num_state, a_pred[0], color='green', label='estimated state')\n",
    "plt.plot(num_state, a_pred[0] - P_pred[0].ravel(), color='green', ls='dashed')\n",
    "plt.plot(num_state, a_pred[0] + P_pred[0].ravel(), color='green', ls='dashed')\n",
    "plt.scatter(num_state, y_test[0], marker='*', color='red', label='observation')\n",
    "plt.xlabel('time')\n",
    "plt.ylabel('state')\n",
    "plt.legend()\n",
    "plt.show()"
   ]
  },
  {
   "cell_type": "code",
   "execution_count": null,
   "metadata": {},
   "outputs": [],
   "source": [
    "P = np.ones((5,7))\n",
    "\n",
    "F = 2*np.ones((2,7))\n",
    "\n",
    "a = P[0,:]\n",
    "print(P@F.T)"
   ]
  },
  {
   "cell_type": "code",
   "execution_count": 43,
   "metadata": {},
   "outputs": [
    {
     "data": {
      "text/plain": [
       "(7, 5)"
      ]
     },
     "execution_count": 43,
     "metadata": {},
     "output_type": "execute_result"
    }
   ],
   "source": [
    "np.random.multivariate_normal(mean=np.zeros((5,)), cov = np.identity(5), size=7).shape"
   ]
  }
 ],
 "metadata": {
  "kernelspec": {
   "display_name": "Python 3",
   "language": "python",
   "name": "python3"
  },
  "language_info": {
   "codemirror_mode": {
    "name": "ipython",
    "version": 3
   },
   "file_extension": ".py",
   "mimetype": "text/x-python",
   "name": "python",
   "nbconvert_exporter": "python",
   "pygments_lexer": "ipython3",
   "version": "3.7.3"
  }
 },
 "nbformat": 4,
 "nbformat_minor": 2
}
