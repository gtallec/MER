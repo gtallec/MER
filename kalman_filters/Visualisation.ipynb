{
 "cells": [
  {
   "cell_type": "code",
   "execution_count": 1,
   "metadata": {},
   "outputs": [],
   "source": [
    "import numpy as np\n",
    "import matplotlib.pyplot as plt\n",
    "from KalmanFilter import KalmanFilter\n",
    "from toy_examples import gen_lin_toy_example, gen_nlin_toy_example"
   ]
  },
  {
   "cell_type": "code",
   "execution_count": 80,
   "metadata": {},
   "outputs": [],
   "source": [
    "\"\"\"\n",
    "def gen_nlin_toy_example(a_0, K):\n",
    "    a = np.zeros((N, K, 1))\n",
    "    y = np.zeros((N, K, 1))\n",
    "    \n",
    "    a_noise = np.random.normal(loc=0, scale=1, size=(N,K-1,1))\n",
    "    y_noise = np.random.normal(loc=0, scale=1, size=(N,K,1))\n",
    "    \n",
    "    a[:, 0, :] = a_0\n",
    "    \n",
    "    for k in range(1, K):\n",
    "        a[:, k, :] = np.sin(a[:, k-1, :]) + a_noise[:, k-1, :]\n",
    "    \n",
    "    y = np.tanh(a) + y_noise\n",
    "    \n",
    "    return a,y\n",
    "\n",
    "def gen_lin_toy_example(a_0, K, F, Q, G, R):\n",
    "    N, D = a_0.shape\n",
    "    H, D = G.shape\n",
    "    \n",
    "    a = np.zeros((N, K, D))\n",
    "    y = np.zeros((N, K, H))\n",
    "    \n",
    "    a_noise = np.random.multivariate_normal(mean=np.zeros((D,)),\n",
    "                                            cov=Q,\n",
    "                                            size=(N,K-1))\n",
    "    \n",
    "    y_noise = np.random.multivariate_normal(mean=np.zeros((H,)),\n",
    "                                            cov=R,\n",
    "                                            size=(N,K))\n",
    "    \n",
    "    a[:, 0, :] = a_0\n",
    "    \n",
    "    for k in range(1,K):\n",
    "        a[:, k, :] = a[:, k-1, :]@(F.T) + a_noise[:, k-1, :]\n",
    "        \n",
    "    y = np.einsum('hd, nkd -> nkh', G, a) + y_noise\n",
    "    \n",
    "    return a, y\n",
    "\"\"\""
   ]
  },
  {
   "cell_type": "code",
   "execution_count": 9,
   "metadata": {},
   "outputs": [],
   "source": [
    "N = 10000\n",
    "K = 50\n",
    "D = 1\n",
    "H = 1\n",
    "a_0 = np.zeros((N, D))\n",
    "F = np.ones((D,D))/1000\n",
    "Q = np.identity(D)\n",
    "\n",
    "G = np.ones((H,D))/1000\n",
    "R = np.identity(H)\n",
    "\n",
    "a, y = gen_lin_toy_example(a_0=a_0,\n",
    "                    K=K,\n",
    "                    F=F,\n",
    "                    Q=Q,\n",
    "                    G=G,\n",
    "                    R=R)"
   ]
  },
  {
   "cell_type": "code",
   "execution_count": 10,
   "metadata": {},
   "outputs": [
    {
     "name": "stdout",
     "output_type": "stream",
     "text": [
      "F : [[-0.00046246]]\n",
      "F.shape : (1, 1)\n",
      "Q : [[0.99874234]]\n",
      "Q.shape : (1, 1)\n",
      "G : [[0.00419246]]\n",
      "G.shape (1, 1)\n",
      "R : [[0.99830244]]\n",
      "R.shape : (1, 1)\n"
     ]
    }
   ],
   "source": [
    "params_path='coucou'\n",
    "kalman_filter_lin = KalmanFilter(params_path=params_path, verbose=True)\n",
    "kalman_filter_lin.fit(A=a, Y=y, lmbda=1e-2)"
   ]
  },
  {
   "cell_type": "code",
   "execution_count": 6,
   "metadata": {},
   "outputs": [
    {
     "data": {
      "text/plain": [
       "\"#visualisation of one trajectory\\nnum_state = np.arange(K)\\nplt.figure()\\nplt.plot(num_state, a[0], color='blue', label='true state')\\nplt.scatter(num_state, y[0], marker='*', color='red', label='observation')\\nplt.legend()\\nplt.show()\\n\""
      ]
     },
     "execution_count": 6,
     "metadata": {},
     "output_type": "execute_result"
    }
   ],
   "source": [
    "\"\"\"#visualisation of one trajectory\n",
    "num_state = np.arange(K)\n",
    "plt.figure()\n",
    "plt.plot(num_state, a[0], color='blue', label='true state')\n",
    "plt.scatter(num_state, y[0], marker='*', color='red', label='observation')\n",
    "plt.legend()\n",
    "plt.show()\n",
    "\"\"\""
   ]
  },
  {
   "cell_type": "code",
   "execution_count": 7,
   "metadata": {},
   "outputs": [],
   "source": [
    "params_path = 'coucou'\n",
    "verbose = True\n",
    "kalman_filter = KalmanFilter(params_path=params_path,\n",
    "                             verbose=verbose)"
   ]
  },
  {
   "cell_type": "code",
   "execution_count": 6,
   "metadata": {},
   "outputs": [
    {
     "name": "stdout",
     "output_type": "stream",
     "text": [
      "F : [[0.49101789]]\n",
      "F.shape : (1, 1)\n",
      "Q : [[1.11911834]]\n",
      "Q.shape : (1, 1)\n",
      "G : [[0.52243888]]\n",
      "G.shape (1, 1)\n",
      "R : [[1.08598856]]\n",
      "R.shape : (1, 1)\n"
     ]
    }
   ],
   "source": [
    "kalman_filter.fit(A=a, Y=y, lmbda=0.2)"
   ]
  },
  {
   "cell_type": "code",
   "execution_count": 17,
   "metadata": {},
   "outputs": [],
   "source": [
    "a_pred, P_pred = kalman_filter.predict(Y=y, a_0=np.zeros((N,D)), P_0=np.tile(A=np.identity(D)[np.newaxis,: , :], reps=(N,1,1)))"
   ]
  },
  {
   "cell_type": "code",
   "execution_count": 15,
   "metadata": {},
   "outputs": [
    {
     "name": "stdout",
     "output_type": "stream",
     "text": [
      "(50, 50, 1)\n",
      "[[ 0.        ]\n",
      " [ 0.01530201]\n",
      " [-0.45804877]\n",
      " [-0.79691251]\n",
      " [-0.79832629]\n",
      " [ 0.2672208 ]\n",
      " [ 0.03514935]\n",
      " [ 0.83960322]\n",
      " [-0.36370653]\n",
      " [-0.83963139]\n",
      " [ 0.99812073]\n",
      " [-0.31959942]\n",
      " [ 0.88016351]\n",
      " [ 0.06484841]\n",
      " [-0.05528753]\n",
      " [-0.45288327]\n",
      " [-0.87560701]\n",
      " [-0.65780823]\n",
      " [-0.00805403]\n",
      " [-0.58227523]\n",
      " [-0.00993581]\n",
      " [-0.42763848]\n",
      " [-0.20148648]\n",
      " [-0.56782641]\n",
      " [-0.4282223 ]\n",
      " [-0.65914234]\n",
      " [-0.08873812]\n",
      " [ 0.29871328]\n",
      " [-0.01541776]\n",
      " [ 0.69238304]\n",
      " [-0.86033941]\n",
      " [-0.82550964]\n",
      " [-0.12348763]\n",
      " [ 0.63787455]\n",
      " [ 1.17267972]\n",
      " [ 0.16861866]\n",
      " [-0.3846805 ]\n",
      " [-0.41628032]\n",
      " [-0.6551099 ]\n",
      " [ 0.36419622]\n",
      " [ 0.17396656]\n",
      " [-0.11040761]\n",
      " [ 0.06506864]\n",
      " [ 0.68145229]\n",
      " [ 1.53108968]\n",
      " [ 0.9465704 ]\n",
      " [ 0.35095352]\n",
      " [ 0.6262546 ]\n",
      " [ 1.5442944 ]\n",
      " [-0.02051838]]\n",
      "(50, 50, 1, 1)\n"
     ]
    }
   ],
   "source": []
  },
  {
   "cell_type": "code",
   "execution_count": 18,
   "metadata": {},
   "outputs": [
    {
     "data": {
      "image/png": "[encoded data removed]",
      "text/plain": [
       "<Figure size 432x288 with 1 Axes>"
      ]
     },
     "metadata": {
      "needs_background": "light"
     },
     "output_type": "display_data"
    }
   ],
   "source": []
  },
  {
   "cell_type": "code",
   "execution_count": 11,
   "metadata": {},
   "outputs": [],
   "source": [
    "K_train = 1000\n",
    "N_train = 1000\n",
    "\n",
    "K_test = 20\n",
    "N_test = 20\n",
    "\n",
    "a_train, y_train = gen_nlin_toy_example(a_0=np.zeros((N_train, 1)), K=K_train)\n",
    "a_test, y_test = gen_nlin_toy_example(a_0=np.zeros((N_test, 1)), K=K_test)"
   ]
  },
  {
   "cell_type": "code",
   "execution_count": 12,
   "metadata": {},
   "outputs": [
    {
     "name": "stdout",
     "output_type": "stream",
     "text": [
      "F : [[0.49125459]]\n",
      "F.shape : (1, 1)\n",
      "Q : [[1.12529916]]\n",
      "Q.shape : (1, 1)\n",
      "G : [[0.53904301]]\n",
      "G.shape (1, 1)\n",
      "R : [[1.04331974]]\n",
      "R.shape : (1, 1)\n"
     ]
    }
   ],
   "source": [
    "lmbda = 1e-2\n",
    "kalman_filter = KalmanFilter(params_path=params_path, verbose = True)\n",
    "kalman_filter.fit(A=a_train, Y=y_train, lmbda=lmbda)"
   ]
  },
  {
   "cell_type": "code",
   "execution_count": 13,
   "metadata": {},
   "outputs": [
    {
     "name": "stdout",
     "output_type": "stream",
     "text": [
      "(20, 20, 1, 1)\n"
     ]
    }
   ],
   "source": [
    "a_pred, P_pred = kalman_filter.predict(Y=y_test, a_0=np.zeros((N_test,1)), P_0=np.tile(A=np.identity(1)[np.newaxis,: , :], reps=(N_test,1,1)))\n",
    "print(P_pred.shape)"
   ]
  },
  {
   "cell_type": "code",
   "execution_count": 15,
   "metadata": {},
   "outputs": [
    {
     "data": {
      "image/png": "[encoded data removed]",
      "text/plain": [
       "<Figure size 432x288 with 1 Axes>"
      ]
     },
     "metadata": {
      "needs_background": "light"
     },
     "output_type": "display_data"
    }
   ],
   "source": [
    "#visualisation of one trajectory\n",
    "num_state = np.arange(K_test)\n",
    "plt.figure()\n",
    "\n",
    "plt.plot(num_state, a_test[0], color='blue', label='true state')\n",
    "plt.plot(num_state, a_pred[0], color='green', label='estimated state')\n",
    "#plt.plot(num_state, a_pred[0] - P_pred[0].ravel(), color='green', ls='dashed')\n",
    "#plt.plot(num_state, a_pred[0] + P_pred[0].ravel(), color='green', ls='dashed')\n",
    "plt.scatter(num_state, y_test[0], marker='*', color='red', label='observation')\n",
    "plt.xlabel('time')\n",
    "plt.ylabel('state')\n",
    "plt.legend()\n",
    "plt.show()"
   ]
  },
  {
   "cell_type": "code",
   "execution_count": null,
   "metadata": {},
   "outputs": [],
   "source": [
    "P = np.ones((5,7))\n",
    "\n",
    "F = 2*np.ones((2,7))\n",
    "\n",
    "a = P[0,:]\n",
    "print(P@F.T)"
   ]
  },
  {
   "cell_type": "code",
   "execution_count": 43,
   "metadata": {},
   "outputs": [
    {
     "data": {
      "text/plain": [
       "(7, 5)"
      ]
     },
     "execution_count": 43,
     "metadata": {},
     "output_type": "execute_result"
    }
   ],
   "source": [
    "np.random.multivariate_normal(mean=np.zeros((5,)), cov = np.identity(5), size=7).shape"
   ]
  }
 ],
 "metadata": {
  "kernelspec": {
   "display_name": "Python 3",
   "language": "python",
   "name": "python3"
  },
  "language_info": {
   "codemirror_mode": {
    "name": "ipython",
    "version": 3
   },
   "file_extension": ".py",
   "mimetype": "text/x-python",
   "name": "python",
   "nbconvert_exporter": "python",
   "pygments_lexer": "ipython3",
   "version": "3.7.3"
  }
 },
 "nbformat": 4,
 "nbformat_minor": 2
}
